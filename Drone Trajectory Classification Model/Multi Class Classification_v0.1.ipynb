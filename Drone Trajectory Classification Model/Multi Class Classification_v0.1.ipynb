{
 "cells": [
  {
   "cell_type": "markdown",
   "id": "7825e434",
   "metadata": {},
   "source": [
    "# Multi Class Drone State Classification Model_v0.1\n",
    "\n",
    "This model is designed to classify the state of a drone into multiple categories based on its sensor data using Binary Relevance with Logistic Regression as the base classifier.\n"
   ]
  },
  {
   "cell_type": "markdown",
   "id": "4a3c2cc0",
   "metadata": {},
   "source": [
    "### Dataset Loading and Exploration"
   ]
  },
  {
   "cell_type": "code",
   "execution_count": 11,
   "id": "899120db",
   "metadata": {},
   "outputs": [],
   "source": [
    "import pandas as pd\n",
    "import numpy as np\n",
    "import matplotlib.pyplot as plt\n",
    "import seaborn as sns"
   ]
  },
  {
   "cell_type": "code",
   "execution_count": 12,
   "id": "2a87cc62",
   "metadata": {},
   "outputs": [
    {
     "name": "stderr",
     "output_type": "stream",
     "text": [
      "<>:1: SyntaxWarning: invalid escape sequence '\\M'\n",
      "<>:1: SyntaxWarning: invalid escape sequence '\\M'\n",
      "C:\\Users\\meetb\\AppData\\Local\\Temp\\ipykernel_23860\\3566205407.py:1: SyntaxWarning: invalid escape sequence '\\M'\n",
      "  data = pd.read_csv('C:\\Meet\\Projects\\Project_6_Icarus_Autonomous Drone Navigation Research\\Project-Icarus\\Drone Trajectory Classification Model\\Dataset\\Drone onboard multi-modal sensor dataset for complex outdoor scenarios.csv')\n"
     ]
    }
   ],
   "source": [
    "data = pd.read_csv('C:\\Meet\\Projects\\Project_6_Icarus_Autonomous Drone Navigation Research\\Project-Icarus\\Drone Trajectory Classification Model\\Dataset\\Drone onboard multi-modal sensor dataset for complex outdoor scenarios.csv')"
   ]
  },
  {
   "cell_type": "code",
   "execution_count": 13,
   "id": "f4c14702",
   "metadata": {},
   "outputs": [
    {
     "name": "stdout",
     "output_type": "stream",
     "text": [
      "<class 'pandas.core.frame.DataFrame'>\n",
      "RangeIndex: 276057 entries, 0 to 276056\n",
      "Data columns (total 34 columns):\n",
      " #   Column                 Non-Null Count   Dtype  \n",
      "---  ------                 --------------   -----  \n",
      " 0   flight                 276057 non-null  int64  \n",
      " 1   seq                    276057 non-null  int64  \n",
      " 2   uid                    276057 non-null  object \n",
      " 3   timestamp              276057 non-null  int64  \n",
      " 4   flight_logic_state     276057 non-null  object \n",
      " 5   wind_speed             276057 non-null  float64\n",
      " 6   wind_angle             276057 non-null  int64  \n",
      " 7   battery_voltage        276057 non-null  int64  \n",
      " 8   battery_current        276057 non-null  int64  \n",
      " 9   position_x             276057 non-null  float64\n",
      " 10  position_y             276057 non-null  float64\n",
      " 11  position_z             276057 non-null  float64\n",
      " 12  altitude               276057 non-null  float64\n",
      " 13  orientation_x          276057 non-null  float64\n",
      " 14  orientation_y          276057 non-null  float64\n",
      " 15  orientation_z          276057 non-null  float64\n",
      " 16  orientation_w          276057 non-null  float64\n",
      " 17  velocity_x             276057 non-null  float64\n",
      " 18  velocity_y             276057 non-null  float64\n",
      " 19  velocity_z             276057 non-null  float64\n",
      " 20  angular_x              276057 non-null  float64\n",
      " 21  angular_y              276057 non-null  float64\n",
      " 22  angular_z              276057 non-null  float64\n",
      " 23  linear_acceleration_x  276057 non-null  float64\n",
      " 24  linear_acceleration_y  276057 non-null  float64\n",
      " 25  linear_acceleration_z  276057 non-null  float64\n",
      " 26  payload                276057 non-null  float64\n",
      " 27  yaw                    276057 non-null  float64\n",
      " 28  flight_1               276057 non-null  int64  \n",
      " 29  IDLE_HOVER             276057 non-null  int64  \n",
      " 30  ASCEND                 276057 non-null  int64  \n",
      " 31  TURN                   276057 non-null  int64  \n",
      " 32  HMSL                   276057 non-null  int64  \n",
      " 33  DESCEND                276057 non-null  int64  \n",
      "dtypes: float64(20), int64(12), object(2)\n",
      "memory usage: 71.6+ MB\n"
     ]
    }
   ],
   "source": [
    "data.info()"
   ]
  },
  {
   "cell_type": "code",
   "execution_count": 14,
   "id": "1ec2ba7c",
   "metadata": {},
   "outputs": [
    {
     "data": {
      "text/html": [
       "<div>\n",
       "<style scoped>\n",
       "    .dataframe tbody tr th:only-of-type {\n",
       "        vertical-align: middle;\n",
       "    }\n",
       "\n",
       "    .dataframe tbody tr th {\n",
       "        vertical-align: top;\n",
       "    }\n",
       "\n",
       "    .dataframe thead th {\n",
       "        text-align: right;\n",
       "    }\n",
       "</style>\n",
       "<table border=\"1\" class=\"dataframe\">\n",
       "  <thead>\n",
       "    <tr style=\"text-align: right;\">\n",
       "      <th></th>\n",
       "      <th>flight</th>\n",
       "      <th>seq</th>\n",
       "      <th>timestamp</th>\n",
       "      <th>wind_speed</th>\n",
       "      <th>wind_angle</th>\n",
       "      <th>battery_voltage</th>\n",
       "      <th>battery_current</th>\n",
       "      <th>position_x</th>\n",
       "      <th>position_y</th>\n",
       "      <th>position_z</th>\n",
       "      <th>...</th>\n",
       "      <th>linear_acceleration_y</th>\n",
       "      <th>linear_acceleration_z</th>\n",
       "      <th>payload</th>\n",
       "      <th>yaw</th>\n",
       "      <th>flight_1</th>\n",
       "      <th>IDLE_HOVER</th>\n",
       "      <th>ASCEND</th>\n",
       "      <th>TURN</th>\n",
       "      <th>HMSL</th>\n",
       "      <th>DESCEND</th>\n",
       "    </tr>\n",
       "  </thead>\n",
       "  <tbody>\n",
       "    <tr>\n",
       "      <th>count</th>\n",
       "      <td>276057.000000</td>\n",
       "      <td>276057.000000</td>\n",
       "      <td>2.760570e+05</td>\n",
       "      <td>276057.000000</td>\n",
       "      <td>276057.000000</td>\n",
       "      <td>276057.000000</td>\n",
       "      <td>276057.000000</td>\n",
       "      <td>276057.000000</td>\n",
       "      <td>276057.000000</td>\n",
       "      <td>276057.000000</td>\n",
       "      <td>...</td>\n",
       "      <td>276057.000000</td>\n",
       "      <td>276057.000000</td>\n",
       "      <td>2.760570e+05</td>\n",
       "      <td>276057.000000</td>\n",
       "      <td>276057.0</td>\n",
       "      <td>276057.000000</td>\n",
       "      <td>276057.000000</td>\n",
       "      <td>276057.000000</td>\n",
       "      <td>276057.000000</td>\n",
       "      <td>276057.000000</td>\n",
       "    </tr>\n",
       "    <tr>\n",
       "      <th>mean</th>\n",
       "      <td>9.780795</td>\n",
       "      <td>138029.000000</td>\n",
       "      <td>1.721888e+09</td>\n",
       "      <td>15.240006</td>\n",
       "      <td>208.525609</td>\n",
       "      <td>45786.548488</td>\n",
       "      <td>16564.132846</td>\n",
       "      <td>33.414741</td>\n",
       "      <td>35.145350</td>\n",
       "      <td>59.168713</td>\n",
       "      <td>...</td>\n",
       "      <td>-0.001156</td>\n",
       "      <td>-0.000886</td>\n",
       "      <td>4.710000e-01</td>\n",
       "      <td>-0.344682</td>\n",
       "      <td>1.0</td>\n",
       "      <td>0.333025</td>\n",
       "      <td>0.018706</td>\n",
       "      <td>0.185125</td>\n",
       "      <td>0.546862</td>\n",
       "      <td>0.044900</td>\n",
       "    </tr>\n",
       "    <tr>\n",
       "      <th>std</th>\n",
       "      <td>5.753696</td>\n",
       "      <td>79690.935968</td>\n",
       "      <td>4.207535e+05</td>\n",
       "      <td>39.005961</td>\n",
       "      <td>111.662821</td>\n",
       "      <td>1955.305450</td>\n",
       "      <td>5138.903166</td>\n",
       "      <td>0.000662</td>\n",
       "      <td>0.000503</td>\n",
       "      <td>25.289246</td>\n",
       "      <td>...</td>\n",
       "      <td>0.777099</td>\n",
       "      <td>0.320406</td>\n",
       "      <td>2.775563e-16</td>\n",
       "      <td>2.012692</td>\n",
       "      <td>0.0</td>\n",
       "      <td>0.471296</td>\n",
       "      <td>0.135486</td>\n",
       "      <td>0.388399</td>\n",
       "      <td>0.497800</td>\n",
       "      <td>0.207085</td>\n",
       "    </tr>\n",
       "    <tr>\n",
       "      <th>min</th>\n",
       "      <td>1.000000</td>\n",
       "      <td>1.000000</td>\n",
       "      <td>1.720598e+09</td>\n",
       "      <td>-99.699997</td>\n",
       "      <td>0.000000</td>\n",
       "      <td>42902.000000</td>\n",
       "      <td>-44.000000</td>\n",
       "      <td>33.411964</td>\n",
       "      <td>35.143097</td>\n",
       "      <td>-2.439651</td>\n",
       "      <td>...</td>\n",
       "      <td>-4.998427</td>\n",
       "      <td>-4.656783</td>\n",
       "      <td>4.710000e-01</td>\n",
       "      <td>-3.141558</td>\n",
       "      <td>1.0</td>\n",
       "      <td>0.000000</td>\n",
       "      <td>0.000000</td>\n",
       "      <td>0.000000</td>\n",
       "      <td>0.000000</td>\n",
       "      <td>0.000000</td>\n",
       "    </tr>\n",
       "    <tr>\n",
       "      <th>25%</th>\n",
       "      <td>5.000000</td>\n",
       "      <td>69015.000000</td>\n",
       "      <td>1.721723e+09</td>\n",
       "      <td>3.910000</td>\n",
       "      <td>99.000000</td>\n",
       "      <td>44229.000000</td>\n",
       "      <td>17197.000000</td>\n",
       "      <td>33.414753</td>\n",
       "      <td>35.145252</td>\n",
       "      <td>69.848740</td>\n",
       "      <td>...</td>\n",
       "      <td>-0.215903</td>\n",
       "      <td>-0.075119</td>\n",
       "      <td>4.710000e-01</td>\n",
       "      <td>-2.410089</td>\n",
       "      <td>1.0</td>\n",
       "      <td>0.000000</td>\n",
       "      <td>0.000000</td>\n",
       "      <td>0.000000</td>\n",
       "      <td>0.000000</td>\n",
       "      <td>0.000000</td>\n",
       "    </tr>\n",
       "    <tr>\n",
       "      <th>50%</th>\n",
       "      <td>10.000000</td>\n",
       "      <td>138029.000000</td>\n",
       "      <td>1.721808e+09</td>\n",
       "      <td>10.720000</td>\n",
       "      <td>266.000000</td>\n",
       "      <td>45418.000000</td>\n",
       "      <td>18040.000000</td>\n",
       "      <td>33.414925</td>\n",
       "      <td>35.145538</td>\n",
       "      <td>69.985550</td>\n",
       "      <td>...</td>\n",
       "      <td>-0.002208</td>\n",
       "      <td>-0.000006</td>\n",
       "      <td>4.710000e-01</td>\n",
       "      <td>-0.677118</td>\n",
       "      <td>1.0</td>\n",
       "      <td>0.000000</td>\n",
       "      <td>0.000000</td>\n",
       "      <td>0.000000</td>\n",
       "      <td>1.000000</td>\n",
       "      <td>0.000000</td>\n",
       "    </tr>\n",
       "    <tr>\n",
       "      <th>75%</th>\n",
       "      <td>15.000000</td>\n",
       "      <td>207043.000000</td>\n",
       "      <td>1.722240e+09</td>\n",
       "      <td>34.849998</td>\n",
       "      <td>296.000000</td>\n",
       "      <td>46861.000000</td>\n",
       "      <td>18766.000000</td>\n",
       "      <td>33.415112</td>\n",
       "      <td>35.145649</td>\n",
       "      <td>70.028336</td>\n",
       "      <td>...</td>\n",
       "      <td>0.217362</td>\n",
       "      <td>0.076748</td>\n",
       "      <td>4.710000e-01</td>\n",
       "      <td>1.595755</td>\n",
       "      <td>1.0</td>\n",
       "      <td>1.000000</td>\n",
       "      <td>0.000000</td>\n",
       "      <td>0.000000</td>\n",
       "      <td>1.000000</td>\n",
       "      <td>0.000000</td>\n",
       "    </tr>\n",
       "    <tr>\n",
       "      <th>max</th>\n",
       "      <td>20.000000</td>\n",
       "      <td>276057.000000</td>\n",
       "      <td>1.722505e+09</td>\n",
       "      <td>99.989998</td>\n",
       "      <td>360.000000</td>\n",
       "      <td>52210.000000</td>\n",
       "      <td>25972.000000</td>\n",
       "      <td>33.415363</td>\n",
       "      <td>35.145779</td>\n",
       "      <td>101.204239</td>\n",
       "      <td>...</td>\n",
       "      <td>5.311280</td>\n",
       "      <td>7.422338</td>\n",
       "      <td>4.710000e-01</td>\n",
       "      <td>3.141569</td>\n",
       "      <td>1.0</td>\n",
       "      <td>1.000000</td>\n",
       "      <td>1.000000</td>\n",
       "      <td>1.000000</td>\n",
       "      <td>1.000000</td>\n",
       "      <td>1.000000</td>\n",
       "    </tr>\n",
       "  </tbody>\n",
       "</table>\n",
       "<p>8 rows × 32 columns</p>\n",
       "</div>"
      ],
      "text/plain": [
       "              flight            seq     timestamp     wind_speed  \\\n",
       "count  276057.000000  276057.000000  2.760570e+05  276057.000000   \n",
       "mean        9.780795  138029.000000  1.721888e+09      15.240006   \n",
       "std         5.753696   79690.935968  4.207535e+05      39.005961   \n",
       "min         1.000000       1.000000  1.720598e+09     -99.699997   \n",
       "25%         5.000000   69015.000000  1.721723e+09       3.910000   \n",
       "50%        10.000000  138029.000000  1.721808e+09      10.720000   \n",
       "75%        15.000000  207043.000000  1.722240e+09      34.849998   \n",
       "max        20.000000  276057.000000  1.722505e+09      99.989998   \n",
       "\n",
       "          wind_angle  battery_voltage  battery_current     position_x  \\\n",
       "count  276057.000000    276057.000000    276057.000000  276057.000000   \n",
       "mean      208.525609     45786.548488     16564.132846      33.414741   \n",
       "std       111.662821      1955.305450      5138.903166       0.000662   \n",
       "min         0.000000     42902.000000       -44.000000      33.411964   \n",
       "25%        99.000000     44229.000000     17197.000000      33.414753   \n",
       "50%       266.000000     45418.000000     18040.000000      33.414925   \n",
       "75%       296.000000     46861.000000     18766.000000      33.415112   \n",
       "max       360.000000     52210.000000     25972.000000      33.415363   \n",
       "\n",
       "          position_y     position_z  ...  linear_acceleration_y  \\\n",
       "count  276057.000000  276057.000000  ...          276057.000000   \n",
       "mean       35.145350      59.168713  ...              -0.001156   \n",
       "std         0.000503      25.289246  ...               0.777099   \n",
       "min        35.143097      -2.439651  ...              -4.998427   \n",
       "25%        35.145252      69.848740  ...              -0.215903   \n",
       "50%        35.145538      69.985550  ...              -0.002208   \n",
       "75%        35.145649      70.028336  ...               0.217362   \n",
       "max        35.145779     101.204239  ...               5.311280   \n",
       "\n",
       "       linear_acceleration_z       payload            yaw  flight_1  \\\n",
       "count          276057.000000  2.760570e+05  276057.000000  276057.0   \n",
       "mean               -0.000886  4.710000e-01      -0.344682       1.0   \n",
       "std                 0.320406  2.775563e-16       2.012692       0.0   \n",
       "min                -4.656783  4.710000e-01      -3.141558       1.0   \n",
       "25%                -0.075119  4.710000e-01      -2.410089       1.0   \n",
       "50%                -0.000006  4.710000e-01      -0.677118       1.0   \n",
       "75%                 0.076748  4.710000e-01       1.595755       1.0   \n",
       "max                 7.422338  4.710000e-01       3.141569       1.0   \n",
       "\n",
       "          IDLE_HOVER         ASCEND           TURN           HMSL  \\\n",
       "count  276057.000000  276057.000000  276057.000000  276057.000000   \n",
       "mean        0.333025       0.018706       0.185125       0.546862   \n",
       "std         0.471296       0.135486       0.388399       0.497800   \n",
       "min         0.000000       0.000000       0.000000       0.000000   \n",
       "25%         0.000000       0.000000       0.000000       0.000000   \n",
       "50%         0.000000       0.000000       0.000000       1.000000   \n",
       "75%         1.000000       0.000000       0.000000       1.000000   \n",
       "max         1.000000       1.000000       1.000000       1.000000   \n",
       "\n",
       "             DESCEND  \n",
       "count  276057.000000  \n",
       "mean        0.044900  \n",
       "std         0.207085  \n",
       "min         0.000000  \n",
       "25%         0.000000  \n",
       "50%         0.000000  \n",
       "75%         0.000000  \n",
       "max         1.000000  \n",
       "\n",
       "[8 rows x 32 columns]"
      ]
     },
     "execution_count": 14,
     "metadata": {},
     "output_type": "execute_result"
    }
   ],
   "source": [
    "data.describe()"
   ]
  },
  {
   "cell_type": "markdown",
   "id": "85cb9a7a",
   "metadata": {},
   "source": [
    "## Dataset Preprocessing"
   ]
  },
  {
   "cell_type": "code",
   "execution_count": 15,
   "id": "64295464",
   "metadata": {},
   "outputs": [
    {
     "data": {
      "text/plain": [
       "1    243191\n",
       "2     30226\n",
       "3      2640\n",
       "Name: count, dtype: int64"
      ]
     },
     "execution_count": 15,
     "metadata": {},
     "output_type": "execute_result"
    }
   ],
   "source": [
    "# Check for class imbalance and multi-label instances\n",
    "data[['IDLE_HOVER','ASCEND','TURN','HMSL','DESCEND']].sum(axis=1).value_counts()"
   ]
  },
  {
   "cell_type": "markdown",
   "id": "2338fccf",
   "metadata": {},
   "source": [
    "### Seperating Features and Labels"
   ]
  },
  {
   "cell_type": "code",
   "execution_count": 16,
   "id": "56ca28f4",
   "metadata": {},
   "outputs": [],
   "source": [
    "label_cols = ['IDLE_HOVER','ASCEND','TURN','HMSL','DESCEND']\n",
    "y = data[label_cols]"
   ]
  },
  {
   "cell_type": "markdown",
   "id": "82262066",
   "metadata": {},
   "source": [
    "### Dropping Identifier and Metadata Columns"
   ]
  },
  {
   "cell_type": "code",
   "execution_count": 17,
   "id": "b01894b4",
   "metadata": {},
   "outputs": [],
   "source": [
    "drop_cols = ['flight', 'seq', 'uid', 'timestamp'] + label_cols\n",
    "X = data.drop(columns=drop_cols)"
   ]
  },
  {
   "cell_type": "markdown",
   "id": "7cad82aa",
   "metadata": {},
   "source": [
    "### Checking for columns with constant values"
   ]
  },
  {
   "cell_type": "code",
   "execution_count": 18,
   "id": "360346ff",
   "metadata": {},
   "outputs": [
    {
     "data": {
      "text/plain": [
       "flight_1                 0.000000e+00\n",
       "payload                  2.775563e-16\n",
       "position_y               5.029859e-04\n",
       "position_x               6.622490e-04\n",
       "orientation_y            4.211050e-02\n",
       "orientation_x            4.533615e-02\n",
       "angular_x                9.356194e-02\n",
       "angular_y                2.152616e-01\n",
       "linear_acceleration_z    3.204061e-01\n",
       "angular_z                3.896060e-01\n",
       "orientation_w            5.183924e-01\n",
       "orientation_z            5.810358e-01\n",
       "velocity_z               6.593509e-01\n",
       "linear_acceleration_y    7.770990e-01\n",
       "linear_acceleration_x    8.473555e-01\n",
       "yaw                      2.012692e+00\n",
       "velocity_y               2.321745e+00\n",
       "velocity_x               2.528063e+00\n",
       "altitude                 2.528925e+01\n",
       "position_z               2.528925e+01\n",
       "wind_speed               3.900596e+01\n",
       "wind_angle               1.116628e+02\n",
       "battery_voltage          1.955305e+03\n",
       "battery_current          5.138903e+03\n",
       "Name: std, dtype: float64"
      ]
     },
     "execution_count": 18,
     "metadata": {},
     "output_type": "execute_result"
    }
   ],
   "source": [
    "X.describe().loc['std'].sort_values()"
   ]
  },
  {
   "cell_type": "code",
   "execution_count": 19,
   "id": "06d6582e",
   "metadata": {},
   "outputs": [
    {
     "name": "stdout",
     "output_type": "stream",
     "text": [
      "Columns with constant values: ['flight_logic_state', 'payload', 'flight_1']\n"
     ]
    }
   ],
   "source": [
    "# Checking for columns with constant values\n",
    "constant_cols = X.columns[X.nunique() <= 1]\n",
    "print(\"Columns with constant values:\", constant_cols.tolist())\n",
    "X = X.drop(columns=constant_cols)"
   ]
  },
  {
   "cell_type": "markdown",
   "id": "34854d26",
   "metadata": {},
   "source": [
    "### Scaling Numeric Features"
   ]
  },
  {
   "cell_type": "code",
   "execution_count": 20,
   "id": "d1bbf11a",
   "metadata": {},
   "outputs": [
    {
     "name": "stdout",
     "output_type": "stream",
     "text": [
      "Non-numeric columns: []\n"
     ]
    }
   ],
   "source": [
    "from sklearn.impute import SimpleImputer\n",
    "from sklearn.preprocessing import StandardScaler\n",
    "\n",
    "# Inspect dtypes to confirm non-numeric columns\n",
    "print(\"Non-numeric columns:\", X.select_dtypes(exclude=['number']).columns.tolist())\n",
    "\n",
    "# Keep numeric features and clean them\n",
    "X_num = X.select_dtypes(include=['number']).copy()\n",
    "X_num = X_num.replace([np.inf, -np.inf], np.nan)\n",
    "\n",
    "imputer = SimpleImputer(strategy='median')\n",
    "X_num_imputed = imputer.fit_transform(X_num)\n",
    "\n",
    "scaler = StandardScaler()\n",
    "X_scaled = scaler.fit_transform(X_num_imputed)"
   ]
  },
  {
   "cell_type": "markdown",
   "id": "e1950485",
   "metadata": {},
   "source": [
    "### Train Test Split"
   ]
  },
  {
   "cell_type": "code",
   "execution_count": 21,
   "id": "c55164b8",
   "metadata": {},
   "outputs": [],
   "source": [
    "import numpy as np\n",
    "from sklearn.model_selection import train_test_split\n",
    "\n",
    "# Convert labels to numpy\n",
    "y_array = y.values.astype(int)\n",
    "\n",
    "# Train-test split (stratifying by number of active labels)\n",
    "label_density = y_array.sum(axis=1)\n",
    "X_train, X_test, y_train, y_test = train_test_split(\n",
    "    X_scaled, y_array, test_size=0.2, random_state=42, stratify=label_density\n",
    ")"
   ]
  },
  {
   "cell_type": "markdown",
   "id": "6be2f682",
   "metadata": {},
   "source": [
    "### Logistic Regression Model"
   ]
  },
  {
   "cell_type": "code",
   "execution_count": 22,
   "id": "8bc3f124",
   "metadata": {},
   "outputs": [],
   "source": [
    "def sigmoid(z):\n",
    "    z = np.clip(z, -50, 50)\n",
    "    return 1 / (1 + np.exp(-z))\n",
    "\n",
    "class LogisticRegressionScratch:\n",
    "    def __init__(self, n_features, lr=0.01, epochs=3):\n",
    "        self.w = np.zeros(n_features)\n",
    "        self.b = 0.0\n",
    "        self.lr = lr\n",
    "        self.epochs = epochs\n",
    "\n",
    "    def fit(self, X, y):\n",
    "        for epoch in range(self.epochs):\n",
    "            total_loss = 0\n",
    "            for i in range(X.shape[0]):  # 🟡 batch (per-sample update)\n",
    "                xi, yi = X[i], y[i]\n",
    "                z = np.dot(self.w, xi) + self.b\n",
    "                pred = sigmoid(z)\n",
    "                error = pred - yi\n",
    "                self.w -= self.lr * (error * xi)\n",
    "                self.b -= self.lr * error\n",
    "                total_loss += -(yi * np.log(pred+1e-9) + (1-yi) * np.log(1-pred+1e-9))\n",
    "            print(f\"Epoch {epoch+1}/{self.epochs} Loss = {total_loss / X.shape[0]}\")\n",
    "\n",
    "    def predict(self, X, threshold=0.5):\n",
    "        return (sigmoid(np.dot(X, self.w) + self.b) >= threshold).astype(int)\n"
   ]
  },
  {
   "cell_type": "markdown",
   "id": "a4328eeb",
   "metadata": {},
   "source": [
    "### Training One-vs-Rest Logistic Regression Models"
   ]
  },
  {
   "cell_type": "code",
   "execution_count": 23,
   "id": "f39c8243",
   "metadata": {},
   "outputs": [
    {
     "name": "stdout",
     "output_type": "stream",
     "text": [
      "\n",
      "Training for label: IDLE_HOVER\n",
      "Epoch 1/3 Loss = 0.45234865881558256\n",
      "Epoch 2/3 Loss = 0.44785998365183205\n",
      "Epoch 3/3 Loss = 0.44778764085279954\n",
      "\n",
      "Training for label: ASCEND\n",
      "Epoch 1/3 Loss = 0.035269956931548184\n",
      "Epoch 2/3 Loss = 0.010235991301477036\n",
      "Epoch 3/3 Loss = 0.008748073947774373\n",
      "\n",
      "Training for label: TURN\n",
      "Epoch 1/3 Loss = 0.40342167528166595\n",
      "Epoch 2/3 Loss = 0.39770585177652584\n",
      "Epoch 3/3 Loss = 0.39762886166319106\n",
      "\n",
      "Training for label: HMSL\n",
      "Epoch 1/3 Loss = 0.47778070104913267\n",
      "Epoch 2/3 Loss = 0.4742313609438164\n",
      "Epoch 3/3 Loss = 0.4742164461550996\n",
      "\n",
      "Training for label: DESCEND\n",
      "Epoch 1/3 Loss = 0.05810740690325681\n",
      "Epoch 2/3 Loss = 0.02663472229676652\n",
      "Epoch 3/3 Loss = 0.024070129767652795\n"
     ]
    }
   ],
   "source": [
    "label_names = ['IDLE_HOVER','ASCEND','TURN','HMSL','DESCEND']\n",
    "models = []\n",
    "\n",
    "for i, label in enumerate(label_names):\n",
    "    print(f\"\\nTraining for label: {label}\")\n",
    "    model = LogisticRegressionScratch(n_features=X_train.shape[1], lr=0.001, epochs=3)\n",
    "    model.fit(X_train, y_train[:, i])\n",
    "    models.append(model)\n"
   ]
  },
  {
   "cell_type": "markdown",
   "id": "0d74d280",
   "metadata": {},
   "source": [
    "### Prediction and Evaluation"
   ]
  },
  {
   "cell_type": "code",
   "execution_count": 24,
   "id": "2accb9e6",
   "metadata": {},
   "outputs": [
    {
     "name": "stdout",
     "output_type": "stream",
     "text": [
      "IDLE_HOVER - Accuracy: 0.8042, Precision: 0.7726, Recall: 0.5834, F1: 0.6648\n",
      "ASCEND - Accuracy: 0.9983, Precision: 0.9639, Recall: 0.9454, F1: 0.9545\n",
      "TURN - Accuracy: 0.8442, Precision: 0.7782, Recall: 0.2225, F1: 0.3461\n",
      "HMSL - Accuracy: 0.8131, Precision: 0.8007, Recall: 0.8754, F1: 0.8364\n",
      "DESCEND - Accuracy: 0.9944, Precision: 0.9626, Recall: 0.9129, F1: 0.9371\n",
      "\n",
      "Overall Hamming Loss: 0.1092\n",
      "Subset Accuracy: 0.6209\n",
      "Micro F1-score: 0.7390\n",
      "Macro F1-score: 0.7478\n",
      "Weighted F1-score: 0.7114\n"
     ]
    }
   ],
   "source": [
    "from sklearn.metrics import precision_score, recall_score, f1_score, accuracy_score\n",
    "\n",
    "y_pred = np.zeros_like(y_test)\n",
    "\n",
    "for i, model in enumerate(models):\n",
    "    preds = model.predict(X_test)\n",
    "    y_pred[:, i] = preds\n",
    "    acc = np.mean(preds == y_test[:, i])\n",
    "    prec = precision_score(y_test[:, i], preds, zero_division=0)\n",
    "    rec = recall_score(y_test[:, i], preds, zero_division=0)\n",
    "    f1 = f1_score(y_test[:, i], preds, zero_division=0)\n",
    "    print(f\"{label_names[i]} - Accuracy: {acc:.4f}, Precision: {prec:.4f}, Recall: {rec:.4f}, F1: {f1:.4f}\")\n",
    "\n",
    "# Multi-label metrics\n",
    "hamming = np.mean(y_pred != y_test)\n",
    "subset_acc = accuracy_score(y_test, y_pred)\n",
    "micro_f1 = f1_score(y_test, y_pred, average='micro', zero_division=0)\n",
    "macro_f1 = f1_score(y_test, y_pred, average='macro', zero_division=0)\n",
    "weighted_f1 = f1_score(y_test, y_pred, average='weighted', zero_division=0)\n",
    "\n",
    "print(f\"\\nOverall Hamming Loss: {hamming:.4f}\")\n",
    "print(f\"Subset Accuracy: {subset_acc:.4f}\")\n",
    "print(f\"Micro F1-score: {micro_f1:.4f}\")\n",
    "print(f\"Macro F1-score: {macro_f1:.4f}\")\n",
    "print(f\"Weighted F1-score: {weighted_f1:.4f}\")"
   ]
  },
  {
   "cell_type": "markdown",
   "id": "6c7e6070",
   "metadata": {},
   "source": [
    "### Testing output"
   ]
  },
  {
   "cell_type": "code",
   "execution_count": 26,
   "id": "eb4a32ea",
   "metadata": {},
   "outputs": [
    {
     "name": "stdout",
     "output_type": "stream",
     "text": [
      "Actual labels: [0 0 0 1 0]\n",
      "Multi-label prediction: [0, 0, 0, 1, 0]\n"
     ]
    }
   ],
   "source": [
    "# Predict all labels for a given sample\n",
    "sample = X_test[1].reshape(1, -1)\n",
    "pred_vector = [model.predict(sample)[0] for model in models]\n",
    "print(\"Actual labels:\", y_test[1])\n",
    "print(\"Multi-label prediction:\", pred_vector)"
   ]
  },
  {
   "cell_type": "code",
   "execution_count": null,
   "id": "0f27de87",
   "metadata": {},
   "outputs": [],
   "source": []
  }
 ],
 "metadata": {
  "kernelspec": {
   "display_name": "Python 3",
   "language": "python",
   "name": "python3"
  },
  "language_info": {
   "codemirror_mode": {
    "name": "ipython",
    "version": 3
   },
   "file_extension": ".py",
   "mimetype": "text/x-python",
   "name": "python",
   "nbconvert_exporter": "python",
   "pygments_lexer": "ipython3",
   "version": "3.12.10"
  }
 },
 "nbformat": 4,
 "nbformat_minor": 5
}
